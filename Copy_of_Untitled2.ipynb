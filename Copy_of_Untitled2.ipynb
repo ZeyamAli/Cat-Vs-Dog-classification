{
  "nbformat": 4,
  "nbformat_minor": 0,
  "metadata": {
    "colab": {
      "provenance": [],
      "toc_visible": true,
      "authorship_tag": "ABX9TyOtZBzWs6NpQNXqoKmJn7DI",
      "include_colab_link": true
    },
    "kernelspec": {
      "name": "python3",
      "display_name": "Python 3"
    },
    "language_info": {
      "name": "python"
    }
  },
  "cells": [
    {
      "cell_type": "markdown",
      "metadata": {
        "id": "view-in-github",
        "colab_type": "text"
      },
      "source": [
        "<a href=\"https://colab.research.google.com/github/ZeyamAli/Cat-Vs-Dog-classification/blob/main/Copy_of_Untitled2.ipynb\" target=\"_parent\"><img src=\"https://colab.research.google.com/assets/colab-badge.svg\" alt=\"Open In Colab\"/></a>"
      ]
    },
    {
      "cell_type": "markdown",
      "source": [
        "#Lab 3"
      ],
      "metadata": {
        "id": "EPzYgc5d931R"
      }
    },
    {
      "cell_type": "markdown",
      "source": [],
      "metadata": {
        "id": "BCEUm4UB9-Vu"
      }
    },
    {
      "cell_type": "markdown",
      "source": [
        "#program to find numbers divisible by 7 andmultiple of 5 between range of 1500 and 2700"
      ],
      "metadata": {
        "id": "KC6FY2ke_y81"
      }
    },
    {
      "cell_type": "code",
      "source": [
        "for i  in range (1500, 2701):\n",
        "  if (i%7==0) and (i%5==0):\n",
        "    print(i)"
      ],
      "metadata": {
        "colab": {
          "base_uri": "https://localhost:8080/"
        },
        "id": "j2MdUjG1_zXV",
        "outputId": "281d345b-0285-4cda-ff0d-f87e559e5c43"
      },
      "execution_count": null,
      "outputs": [
        {
          "output_type": "stream",
          "name": "stdout",
          "text": [
            "1505\n",
            "1540\n",
            "1575\n",
            "1610\n",
            "1645\n",
            "1680\n",
            "1715\n",
            "1750\n",
            "1785\n",
            "1820\n",
            "1855\n",
            "1890\n",
            "1925\n",
            "1960\n",
            "1995\n",
            "2030\n",
            "2065\n",
            "2100\n",
            "2135\n",
            "2170\n",
            "2205\n",
            "2240\n",
            "2275\n",
            "2310\n",
            "2345\n",
            "2380\n",
            "2415\n",
            "2450\n",
            "2485\n",
            "2520\n",
            "2555\n",
            "2590\n",
            "2625\n",
            "2660\n",
            "2695\n"
          ]
        }
      ]
    },
    {
      "cell_type": "markdown",
      "source": [
        "#converter for temperature"
      ],
      "metadata": {
        "id": "sZ6_RNUBA7_g"
      }
    },
    {
      "cell_type": "code",
      "source": [
        "def convert_celsius_to_fahrenheit(celsius):\n",
        "  \"\"\"Converts Celsius to Fahrenheit.\"\"\"\n",
        "  fahrenheit = (9/5) * celsius + 32\n",
        "  return fahrenheit\n",
        "\n",
        "def convert_fahrenheit_to_celsius(fahrenheit):\n",
        "  \"\"\"Converts Fahrenheit to Celsius.\"\"\"\n",
        "  celsius = (5/9) * (fahrenheit - 32)\n",
        "  return celsius\n",
        "\n",
        "# Get user input\n",
        "temperature_value = float(input(\"Enter the temperature value: \"))\n",
        "temperature_unit = input(\"Enter the unit (C for Celsius, F for Fahrenheit): \").upper()\n",
        "\n",
        "# Perform conversion and print result\n",
        "if temperature_unit == 'C':\n",
        "  converted_temperature = convert_celsius_to_fahrenheit(temperature_value)\n",
        "  print(f\"{temperature_value} degrees Celsius is equal to {converted_temperature} degrees Fahrenheit.\")\n",
        "elif temperature_unit == 'F':\n",
        "  converted_temperature = convert_fahrenheit_to_celsius(temperature_value)\n",
        "  print(f\"{temperature_value} degrees Fahrenheit is equal to {converted_temperature} degrees Celsius.\")\n",
        "else:\n",
        "  print(\"Invalid unit. Please enter C or F.\")"
      ],
      "metadata": {
        "colab": {
          "base_uri": "https://localhost:8080/"
        },
        "id": "bo97FN9GC8ag",
        "outputId": "67af4234-a3a4-4c3c-eceb-befb0611aa46"
      },
      "execution_count": null,
      "outputs": [
        {
          "output_type": "stream",
          "name": "stdout",
          "text": [
            "Enter the temperature value: 60\n",
            "Enter the unit (C for Celsius, F for Fahrenheit): c\n",
            "60.0 degrees Celsius is equal to 140.0 degrees Fahrenheit.\n"
          ]
        }
      ]
    },
    {
      "cell_type": "markdown",
      "source": [
        "#Program to guess a number between 1 to 9"
      ],
      "metadata": {
        "id": "ygu2_1mjE4Vf"
      }
    },
    {
      "cell_type": "code",
      "source": [
        "x = 5\n",
        "while True:\n",
        "  guess = int(input(\"guess a number between 1 to 9:  \"))\n",
        "  if guess == x :\n",
        "    print(\"Congratulations! you guessed a number prcisely\")\n",
        "    break\n",
        "  else:\n",
        "    print(\"plz try again !\")"
      ],
      "metadata": {
        "colab": {
          "base_uri": "https://localhost:8080/"
        },
        "id": "JcbiF0-jEhQ8",
        "outputId": "252f23fc-331c-473d-dd4d-7e783793bfa9"
      },
      "execution_count": null,
      "outputs": [
        {
          "output_type": "stream",
          "name": "stdout",
          "text": [
            "guess a number between 1 to 9:  7\n",
            "plz try again !\n",
            "guess a number between 1 to 9:  9\n",
            "plz try again !\n",
            "guess a number between 1 to 9:  5\n",
            "Congratulations you guessed a number prcisely\n"
          ]
        }
      ]
    },
    {
      "cell_type": "markdown",
      "source": [
        "#Design a pettern using nested loop"
      ],
      "metadata": {
        "id": "airlgpQJHFGp"
      }
    },
    {
      "cell_type": "code",
      "source": [
        "for i in range(1,6):\n",
        "  for j in range(9,6):\n",
        "    print('*')"
      ],
      "metadata": {
        "id": "fY0tc5DoG4ir"
      },
      "execution_count": null,
      "outputs": []
    },
    {
      "cell_type": "markdown",
      "source": [
        "#Reverse the accepted words from the user"
      ],
      "metadata": {
        "id": "V8MUXoQIIXyQ"
      }
    },
    {
      "cell_type": "code",
      "source": [
        "x = input(\"plz enter a word:  \")\n",
        "reversed_word = reversed(x)\n",
        "print(''.join(reversed_word))"
      ],
      "metadata": {
        "colab": {
          "base_uri": "https://localhost:8080/"
        },
        "id": "gsHoOiGeF4lY",
        "outputId": "593d6402-c854-4d78-857e-7bb50e522f06"
      },
      "execution_count": null,
      "outputs": [
        {
          "output_type": "stream",
          "name": "stdout",
          "text": [
            "plz enter a word:  zeyam ali\n",
            "ila mayez\n"
          ]
        }
      ]
    },
    {
      "cell_type": "markdown",
      "source": [
        "#"
      ],
      "metadata": {
        "id": "DX7RglGlKXfg"
      }
    },
    {
      "cell_type": "code",
      "source": [],
      "metadata": {
        "id": "_euWUmSUItOZ"
      },
      "execution_count": null,
      "outputs": []
    }
  ]
}